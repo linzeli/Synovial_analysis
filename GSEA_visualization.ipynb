{
 "cells": [
  {
   "cell_type": "code",
   "execution_count": null,
   "metadata": {},
   "outputs": [],
   "source": [
    "import pandas as pd"
   ]
  },
  {
   "cell_type": "code",
   "execution_count": null,
   "metadata": {},
   "outputs": [],
   "source": [
    "raw_h = pd.read_csv ('/Users/linze/PycharmProjects/untitled/datacleaning/H.csv')\n",
    "raw_immune = pd.read_csv ('/Users/linze/PycharmProjects/untitled/datacleaning/immune.csv')\n",
    "raw_go = pd.read_csv ('/Users/linze/PycharmProjects/untitled/datacleaning/GO.csv')\n"
   ]
  },
  {
   "cell_type": "code",
   "execution_count": 89,
   "metadata": {},
   "outputs": [],
   "source": [
    "def stripe_leading_edge(input):\n",
    "    input=input.replace(\"c\", \"\")\n",
    "    input=input.replace(\"(\", \"\")\n",
    "    input=input.replace(\")\", \"\")\n",
    "    input=input.replace(\"\\\"\", \"\")\n",
    "    edge_list=input.split(\", \")\n",
    "    out_list = []\n",
    "    for each in edge_list:\n",
    "        each = each\n",
    "        out_list.append(each)\n",
    "    return out_list\n",
    "\n",
    "\n",
    "def get_gene_dict(dataset):\n",
    "    gene_list = []\n",
    "    for index_1, row_1 in dataset.iterrows ():\n",
    "        gene_list+=stripe_leading_edge(row_1['leadingEdge'])\n",
    "    mylist = list(set(gene_list))\n",
    "    dict_gene={}\n",
    "    for each in mylist:\n",
    "        dict_gene[each]=gene_list.count(each)\n",
    "    return dict_gene\n",
    "\n",
    "\n",
    "def get_pathway_size_list(dataset):\n",
    "    size_list = []\n",
    "    for index_1, row_1 in dataset.iterrows ():\n",
    "        size_list.append(len(stripe_leading_edge(row_1['leadingEdge'])))\n",
    "    return size_list \n",
    "\n",
    "\n",
    "def get_pathway_dict(dataset):\n",
    "    dict_path={}\n",
    "    gene_list = []\n",
    "    for index_1, row_1 in dataset.iterrows ():\n",
    "        gene_list+=stripe_leading_edge(row_1['leadingEdge'])\n",
    "    gene_list = list(set(gene_list))\n",
    "    for index_1, row_1 in dataset.iterrows ():\n",
    "        dict_path[row_1['pathway']]=stripe_leading_edge(row_1['leadingEdge'])\n",
    "    return gene_list, dict_path"
   ]
  },
  {
   "cell_type": "code",
   "execution_count": 90,
   "metadata": {},
   "outputs": [],
   "source": [
    "dict_gene_h=get_gene_dict(raw_h)\n",
    "dict_gene_go=get_gene_dict(raw_go)\n",
    "dict_gene_immune=get_gene_dict(raw_immune)"
   ]
  },
  {
   "cell_type": "code",
   "execution_count": 100,
   "metadata": {},
   "outputs": [],
   "source": [
    "pathway_h=raw_h['pathway']\n",
    "enrich_h = [x * -1 for x in raw_h['NES']]\n",
    "size_h=get_pathway_size_list(raw_h)\n",
    "pathway_immune=raw_immune['pathway']\n",
    "enrich_immune = [x * -1 for x in raw_immune['NES']]\n",
    "size_immune=get_pathway_size_list(raw_immune)\n",
    "pathway_go=raw_go['pathway']\n",
    "enrich_go = [x * -1 for x in raw_go['NES']]\n",
    "size_go=get_pathway_size_list(raw_go)"
   ]
  },
  {
   "cell_type": "code",
   "execution_count": 101,
   "metadata": {},
   "outputs": [],
   "source": [
    "heat_list_h, heat_dict_h=get_pathway_dict(raw_h)\n",
    "heat_list_immune, heat_dict_immune=get_pathway_dict(raw_immune)\n",
    "heat_list_go, heat_dict_go=get_pathway_dict(raw_go)"
   ]
  },
  {
   "cell_type": "code",
   "execution_count": 102,
   "metadata": {},
   "outputs": [],
   "source": [
    "def get_one_hot(gene_list, pathway_dict, pathway_list):\n",
    "    one_hot_dict={}\n",
    "    for each_gene in gene_list:\n",
    "        one_hot_list=[]\n",
    "        for each_path in pathway_list:\n",
    "            if each_gene in pathway_dict[each_path]:\n",
    "                one_hot_list.append(1)\n",
    "            else:\n",
    "                one_hot_list.append(0)\n",
    "        one_hot_dict[each_gene]=one_hot_list\n",
    "    return one_hot_dict"
   ]
  },
  {
   "cell_type": "markdown",
   "metadata": {},
   "source": [
    "Create dataframe"
   ]
  },
  {
   "cell_type": "code",
   "execution_count": 103,
   "metadata": {},
   "outputs": [],
   "source": [
    "H_gene_occ=pd.DataFrame(dict_gene_h,index=[0])\n",
    "immune_gene_occ=pd.DataFrame(dict_gene_immune,index=[0])\n",
    "go_gene_occ=pd.DataFrame(dict_gene_go,index=[0])"
   ]
  },
  {
   "cell_type": "code",
   "execution_count": 104,
   "metadata": {},
   "outputs": [],
   "source": [
    "H_pathway_stat=pd.DataFrame({'pathway': pathway_h, 'NES': enrich_h, 'size':size_h})\n",
    "immune_pathway_stat=pd.DataFrame({'pathway': pathway_immune, 'NES': enrich_immune, 'size':size_immune})\n",
    "go_pathway_stat=pd.DataFrame({'pathway': pathway_go, 'NES': enrich_go, 'size':size_go})"
   ]
  },
  {
   "cell_type": "code",
   "execution_count": 105,
   "metadata": {},
   "outputs": [],
   "source": [
    "one_hot_h=get_one_hot(heat_list_h, heat_dict_h, pathway_h)\n",
    "one_hot_immune=get_one_hot(heat_list_immune, heat_dict_immune, pathway_immune)\n",
    "one_hot_go=get_one_hot(heat_list_go, heat_dict_go, pathway_go)"
   ]
  },
  {
   "cell_type": "code",
   "execution_count": 106,
   "metadata": {},
   "outputs": [],
   "source": [
    "h_heat=pd.DataFrame(one_hot_h)\n",
    "immune_heat=pd.DataFrame(one_hot_immune)\n",
    "go_heat=pd.DataFrame(one_hot_go)"
   ]
  },
  {
   "cell_type": "code",
   "execution_count": 112,
   "metadata": {},
   "outputs": [],
   "source": [
    "immune_heat=immune_heat.set_index(pathway_immune)\n",
    "h_heat=pd.DataFrame(pathway_h)\n",
    "go_heat=pd.DataFrame(pathway_go)"
   ]
  },
  {
   "cell_type": "code",
   "execution_count": 110,
   "metadata": {},
   "outputs": [],
   "source": [
    "H_gene_occ.to_csv(\"Hallmark_occ.csv\")\n",
    "immune_gene_occ.to_csv(\"immune_occ.csv\")\n",
    "go_gene_occ.to_csv(\"go_occ.csv\")"
   ]
  },
  {
   "cell_type": "code",
   "execution_count": 114,
   "metadata": {},
   "outputs": [],
   "source": [
    "H_pathway_stat.to_csv(\"Hallmark_stat.csv\")\n",
    "immune_pathway_stat.to_csv(\"immune_stat.csv\")\n",
    "go_pathway_stat.to_csv(\"go_stat.csv\")"
   ]
  },
  {
   "cell_type": "code",
   "execution_count": 115,
   "metadata": {},
   "outputs": [],
   "source": [
    "h_heat.to_csv(\"Hallmark_heat.csv\")\n",
    "immune_heat.to_csv(\"immune_heat.csv\")\n",
    "go_heat.to_csv(\"go_heat.csv\")"
   ]
  },
  {
   "cell_type": "code",
   "execution_count": null,
   "metadata": {},
   "outputs": [],
   "source": []
  }
 ],
 "metadata": {
  "kernelspec": {
   "display_name": "Python 2",
   "language": "python",
   "name": "python2"
  },
  "language_info": {
   "codemirror_mode": {
    "name": "ipython",
    "version": 2
   },
   "file_extension": ".py",
   "mimetype": "text/x-python",
   "name": "python",
   "nbconvert_exporter": "python",
   "pygments_lexer": "ipython2",
   "version": "2.7.6"
  }
 },
 "nbformat": 4,
 "nbformat_minor": 0
}
